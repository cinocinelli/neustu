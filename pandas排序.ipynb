{
 "cells": [
  {
   "cell_type": "code",
   "execution_count": 1,
   "metadata": {
    "collapsed": true
   },
   "outputs": [],
   "source": [
    "import numpy as np\n",
    "import pandas as pd\n",
    "from pandas import DataFrame,Series"
   ]
  },
  {
   "cell_type": "code",
   "execution_count": 2,
   "metadata": {
    "collapsed": true
   },
   "outputs": [],
   "source": [
    "#Series排序"
   ]
  },
  {
   "cell_type": "code",
   "execution_count": 3,
   "metadata": {
    "collapsed": true
   },
   "outputs": [],
   "source": [
    "s1=Series(np.random.rand(10))"
   ]
  },
  {
   "cell_type": "code",
   "execution_count": 4,
   "metadata": {},
   "outputs": [
    {
     "data": {
      "text/plain": [
       "0    0.435756\n",
       "1    0.132532\n",
       "2    0.117670\n",
       "3    0.055091\n",
       "4    0.067939\n",
       "5    0.940237\n",
       "6    0.212654\n",
       "7    0.780434\n",
       "8    0.729212\n",
       "9    0.451150\n",
       "dtype: float64"
      ]
     },
     "execution_count": 4,
     "metadata": {},
     "output_type": "execute_result"
    }
   ],
   "source": [
    "s1"
   ]
  },
  {
   "cell_type": "code",
   "execution_count": 5,
   "metadata": {},
   "outputs": [
    {
     "data": {
      "text/plain": [
       "RangeIndex(start=0, stop=10, step=1)"
      ]
     },
     "execution_count": 5,
     "metadata": {},
     "output_type": "execute_result"
    }
   ],
   "source": [
    "s1.index"
   ]
  },
  {
   "cell_type": "code",
   "execution_count": 6,
   "metadata": {},
   "outputs": [
    {
     "data": {
      "text/plain": [
       "array([0.4357557 , 0.13253197, 0.11766997, 0.05509088, 0.0679388 ,\n",
       "       0.94023724, 0.21265407, 0.78043379, 0.72921201, 0.45115017])"
      ]
     },
     "execution_count": 6,
     "metadata": {},
     "output_type": "execute_result"
    }
   ],
   "source": [
    "s1.values"
   ]
  },
  {
   "cell_type": "code",
   "execution_count": 7,
   "metadata": {},
   "outputs": [
    {
     "data": {
      "text/plain": [
       "3    0.055091\n",
       "4    0.067939\n",
       "2    0.117670\n",
       "1    0.132532\n",
       "6    0.212654\n",
       "0    0.435756\n",
       "9    0.451150\n",
       "8    0.729212\n",
       "7    0.780434\n",
       "5    0.940237\n",
       "dtype: float64"
      ]
     },
     "execution_count": 7,
     "metadata": {},
     "output_type": "execute_result"
    }
   ],
   "source": [
    "s2=s1.sort_values()\n",
    "s2"
   ]
  },
  {
   "cell_type": "code",
   "execution_count": 8,
   "metadata": {},
   "outputs": [
    {
     "data": {
      "text/plain": [
       "0    0.435756\n",
       "1    0.132532\n",
       "2    0.117670\n",
       "3    0.055091\n",
       "4    0.067939\n",
       "5    0.940237\n",
       "6    0.212654\n",
       "7    0.780434\n",
       "8    0.729212\n",
       "9    0.451150\n",
       "dtype: float64"
      ]
     },
     "execution_count": 8,
     "metadata": {},
     "output_type": "execute_result"
    }
   ],
   "source": [
    "s1"
   ]
  },
  {
   "cell_type": "code",
   "execution_count": 9,
   "metadata": {},
   "outputs": [
    {
     "data": {
      "text/plain": [
       "5    0.940237\n",
       "7    0.780434\n",
       "8    0.729212\n",
       "9    0.451150\n",
       "0    0.435756\n",
       "6    0.212654\n",
       "1    0.132532\n",
       "2    0.117670\n",
       "4    0.067939\n",
       "3    0.055091\n",
       "dtype: float64"
      ]
     },
     "execution_count": 9,
     "metadata": {},
     "output_type": "execute_result"
    }
   ],
   "source": [
    "s2.sort_values(ascending=False)#升序（True）或降序(False)"
   ]
  },
  {
   "cell_type": "code",
   "execution_count": 10,
   "metadata": {},
   "outputs": [
    {
     "data": {
      "text/plain": [
       "9    0.451150\n",
       "8    0.729212\n",
       "7    0.780434\n",
       "6    0.212654\n",
       "5    0.940237\n",
       "4    0.067939\n",
       "3    0.055091\n",
       "2    0.117670\n",
       "1    0.132532\n",
       "0    0.435756\n",
       "dtype: float64"
      ]
     },
     "execution_count": 10,
     "metadata": {},
     "output_type": "execute_result"
    }
   ],
   "source": [
    "s2.sort_index(ascending=False)"
   ]
  },
  {
   "cell_type": "code",
   "execution_count": 11,
   "metadata": {
    "collapsed": true
   },
   "outputs": [],
   "source": [
    "import string"
   ]
  },
  {
   "cell_type": "code",
   "execution_count": 12,
   "metadata": {
    "collapsed": true
   },
   "outputs": [],
   "source": [
    "#df排序\n",
    "df1 = DataFrame(np.random.rand(40).reshape(8,5),columns=list(string.ascii_uppercase[:5]))"
   ]
  },
  {
   "cell_type": "code",
   "execution_count": 13,
   "metadata": {},
   "outputs": [
    {
     "data": {
      "text/html": [
       "<div>\n",
       "<style>\n",
       "    .dataframe thead tr:only-child th {\n",
       "        text-align: right;\n",
       "    }\n",
       "\n",
       "    .dataframe thead th {\n",
       "        text-align: left;\n",
       "    }\n",
       "\n",
       "    .dataframe tbody tr th {\n",
       "        vertical-align: top;\n",
       "    }\n",
       "</style>\n",
       "<table border=\"1\" class=\"dataframe\">\n",
       "  <thead>\n",
       "    <tr style=\"text-align: right;\">\n",
       "      <th></th>\n",
       "      <th>A</th>\n",
       "      <th>B</th>\n",
       "      <th>C</th>\n",
       "      <th>D</th>\n",
       "      <th>E</th>\n",
       "    </tr>\n",
       "  </thead>\n",
       "  <tbody>\n",
       "    <tr>\n",
       "      <th>0</th>\n",
       "      <td>0.516019</td>\n",
       "      <td>0.888242</td>\n",
       "      <td>0.575932</td>\n",
       "      <td>0.273078</td>\n",
       "      <td>0.244062</td>\n",
       "    </tr>\n",
       "    <tr>\n",
       "      <th>1</th>\n",
       "      <td>0.229311</td>\n",
       "      <td>0.022118</td>\n",
       "      <td>0.025588</td>\n",
       "      <td>0.682839</td>\n",
       "      <td>0.563910</td>\n",
       "    </tr>\n",
       "    <tr>\n",
       "      <th>2</th>\n",
       "      <td>0.736634</td>\n",
       "      <td>0.984289</td>\n",
       "      <td>0.174398</td>\n",
       "      <td>0.060852</td>\n",
       "      <td>0.385972</td>\n",
       "    </tr>\n",
       "    <tr>\n",
       "      <th>3</th>\n",
       "      <td>0.174053</td>\n",
       "      <td>0.560949</td>\n",
       "      <td>0.991312</td>\n",
       "      <td>0.168745</td>\n",
       "      <td>0.636815</td>\n",
       "    </tr>\n",
       "    <tr>\n",
       "      <th>4</th>\n",
       "      <td>0.095319</td>\n",
       "      <td>0.118023</td>\n",
       "      <td>0.329139</td>\n",
       "      <td>0.849615</td>\n",
       "      <td>0.733250</td>\n",
       "    </tr>\n",
       "    <tr>\n",
       "      <th>5</th>\n",
       "      <td>0.542139</td>\n",
       "      <td>0.501710</td>\n",
       "      <td>0.740710</td>\n",
       "      <td>0.719700</td>\n",
       "      <td>0.698215</td>\n",
       "    </tr>\n",
       "    <tr>\n",
       "      <th>6</th>\n",
       "      <td>0.837741</td>\n",
       "      <td>0.090177</td>\n",
       "      <td>0.234931</td>\n",
       "      <td>0.419176</td>\n",
       "      <td>0.131346</td>\n",
       "    </tr>\n",
       "    <tr>\n",
       "      <th>7</th>\n",
       "      <td>0.793836</td>\n",
       "      <td>0.255009</td>\n",
       "      <td>0.232284</td>\n",
       "      <td>0.138316</td>\n",
       "      <td>0.398928</td>\n",
       "    </tr>\n",
       "  </tbody>\n",
       "</table>\n",
       "</div>"
      ],
      "text/plain": [
       "          A         B         C         D         E\n",
       "0  0.516019  0.888242  0.575932  0.273078  0.244062\n",
       "1  0.229311  0.022118  0.025588  0.682839  0.563910\n",
       "2  0.736634  0.984289  0.174398  0.060852  0.385972\n",
       "3  0.174053  0.560949  0.991312  0.168745  0.636815\n",
       "4  0.095319  0.118023  0.329139  0.849615  0.733250\n",
       "5  0.542139  0.501710  0.740710  0.719700  0.698215\n",
       "6  0.837741  0.090177  0.234931  0.419176  0.131346\n",
       "7  0.793836  0.255009  0.232284  0.138316  0.398928"
      ]
     },
     "execution_count": 13,
     "metadata": {},
     "output_type": "execute_result"
    }
   ],
   "source": [
    "df1"
   ]
  },
  {
   "cell_type": "code",
   "execution_count": 19,
   "metadata": {},
   "outputs": [
    {
     "ename": "TypeError",
     "evalue": "sort_values() missing 1 required positional argument: 'by'",
     "output_type": "error",
     "traceback": [
      "\u001b[1;31m---------------------------------------------------------------------------\u001b[0m",
      "\u001b[1;31mTypeError\u001b[0m                                 Traceback (most recent call last)",
      "\u001b[1;32m<ipython-input-19-504db46d65a8>\u001b[0m in \u001b[0;36m<module>\u001b[1;34m()\u001b[0m\n\u001b[1;32m----> 1\u001b[1;33m \u001b[0mdf1\u001b[0m\u001b[1;33m.\u001b[0m\u001b[0msort_values\u001b[0m\u001b[1;33m(\u001b[0m\u001b[1;33m)\u001b[0m\u001b[1;33m\u001b[0m\u001b[0m\n\u001b[0m",
      "\u001b[1;31mTypeError\u001b[0m: sort_values() missing 1 required positional argument: 'by'"
     ]
    }
   ],
   "source": [
    "df1.sort_values()"
   ]
  },
  {
   "cell_type": "code",
   "execution_count": 15,
   "metadata": {},
   "outputs": [
    {
     "data": {
      "text/html": [
       "<div>\n",
       "<style>\n",
       "    .dataframe thead tr:only-child th {\n",
       "        text-align: right;\n",
       "    }\n",
       "\n",
       "    .dataframe thead th {\n",
       "        text-align: left;\n",
       "    }\n",
       "\n",
       "    .dataframe tbody tr th {\n",
       "        vertical-align: top;\n",
       "    }\n",
       "</style>\n",
       "<table border=\"1\" class=\"dataframe\">\n",
       "  <thead>\n",
       "    <tr style=\"text-align: right;\">\n",
       "      <th></th>\n",
       "      <th>A</th>\n",
       "      <th>B</th>\n",
       "      <th>C</th>\n",
       "      <th>D</th>\n",
       "      <th>E</th>\n",
       "    </tr>\n",
       "  </thead>\n",
       "  <tbody>\n",
       "    <tr>\n",
       "      <th>6</th>\n",
       "      <td>0.837741</td>\n",
       "      <td>0.090177</td>\n",
       "      <td>0.234931</td>\n",
       "      <td>0.419176</td>\n",
       "      <td>0.131346</td>\n",
       "    </tr>\n",
       "    <tr>\n",
       "      <th>7</th>\n",
       "      <td>0.793836</td>\n",
       "      <td>0.255009</td>\n",
       "      <td>0.232284</td>\n",
       "      <td>0.138316</td>\n",
       "      <td>0.398928</td>\n",
       "    </tr>\n",
       "    <tr>\n",
       "      <th>2</th>\n",
       "      <td>0.736634</td>\n",
       "      <td>0.984289</td>\n",
       "      <td>0.174398</td>\n",
       "      <td>0.060852</td>\n",
       "      <td>0.385972</td>\n",
       "    </tr>\n",
       "    <tr>\n",
       "      <th>5</th>\n",
       "      <td>0.542139</td>\n",
       "      <td>0.501710</td>\n",
       "      <td>0.740710</td>\n",
       "      <td>0.719700</td>\n",
       "      <td>0.698215</td>\n",
       "    </tr>\n",
       "    <tr>\n",
       "      <th>0</th>\n",
       "      <td>0.516019</td>\n",
       "      <td>0.888242</td>\n",
       "      <td>0.575932</td>\n",
       "      <td>0.273078</td>\n",
       "      <td>0.244062</td>\n",
       "    </tr>\n",
       "    <tr>\n",
       "      <th>1</th>\n",
       "      <td>0.229311</td>\n",
       "      <td>0.022118</td>\n",
       "      <td>0.025588</td>\n",
       "      <td>0.682839</td>\n",
       "      <td>0.563910</td>\n",
       "    </tr>\n",
       "    <tr>\n",
       "      <th>3</th>\n",
       "      <td>0.174053</td>\n",
       "      <td>0.560949</td>\n",
       "      <td>0.991312</td>\n",
       "      <td>0.168745</td>\n",
       "      <td>0.636815</td>\n",
       "    </tr>\n",
       "    <tr>\n",
       "      <th>4</th>\n",
       "      <td>0.095319</td>\n",
       "      <td>0.118023</td>\n",
       "      <td>0.329139</td>\n",
       "      <td>0.849615</td>\n",
       "      <td>0.733250</td>\n",
       "    </tr>\n",
       "  </tbody>\n",
       "</table>\n",
       "</div>"
      ],
      "text/plain": [
       "          A         B         C         D         E\n",
       "6  0.837741  0.090177  0.234931  0.419176  0.131346\n",
       "7  0.793836  0.255009  0.232284  0.138316  0.398928\n",
       "2  0.736634  0.984289  0.174398  0.060852  0.385972\n",
       "5  0.542139  0.501710  0.740710  0.719700  0.698215\n",
       "0  0.516019  0.888242  0.575932  0.273078  0.244062\n",
       "1  0.229311  0.022118  0.025588  0.682839  0.563910\n",
       "3  0.174053  0.560949  0.991312  0.168745  0.636815\n",
       "4  0.095319  0.118023  0.329139  0.849615  0.733250"
      ]
     },
     "execution_count": 15,
     "metadata": {},
     "output_type": "execute_result"
    }
   ],
   "source": [
    "df1.sort_values('A',ascending=False)"
   ]
  },
  {
   "cell_type": "code",
   "execution_count": 16,
   "metadata": {},
   "outputs": [
    {
     "data": {
      "text/html": [
       "<div>\n",
       "<style>\n",
       "    .dataframe thead tr:only-child th {\n",
       "        text-align: right;\n",
       "    }\n",
       "\n",
       "    .dataframe thead th {\n",
       "        text-align: left;\n",
       "    }\n",
       "\n",
       "    .dataframe tbody tr th {\n",
       "        vertical-align: top;\n",
       "    }\n",
       "</style>\n",
       "<table border=\"1\" class=\"dataframe\">\n",
       "  <thead>\n",
       "    <tr style=\"text-align: right;\">\n",
       "      <th></th>\n",
       "      <th>A</th>\n",
       "      <th>B</th>\n",
       "      <th>C</th>\n",
       "      <th>D</th>\n",
       "      <th>E</th>\n",
       "    </tr>\n",
       "  </thead>\n",
       "  <tbody>\n",
       "    <tr>\n",
       "      <th>7</th>\n",
       "      <td>0.793836</td>\n",
       "      <td>0.255009</td>\n",
       "      <td>0.232284</td>\n",
       "      <td>0.138316</td>\n",
       "      <td>0.398928</td>\n",
       "    </tr>\n",
       "    <tr>\n",
       "      <th>6</th>\n",
       "      <td>0.837741</td>\n",
       "      <td>0.090177</td>\n",
       "      <td>0.234931</td>\n",
       "      <td>0.419176</td>\n",
       "      <td>0.131346</td>\n",
       "    </tr>\n",
       "    <tr>\n",
       "      <th>5</th>\n",
       "      <td>0.542139</td>\n",
       "      <td>0.501710</td>\n",
       "      <td>0.740710</td>\n",
       "      <td>0.719700</td>\n",
       "      <td>0.698215</td>\n",
       "    </tr>\n",
       "    <tr>\n",
       "      <th>4</th>\n",
       "      <td>0.095319</td>\n",
       "      <td>0.118023</td>\n",
       "      <td>0.329139</td>\n",
       "      <td>0.849615</td>\n",
       "      <td>0.733250</td>\n",
       "    </tr>\n",
       "    <tr>\n",
       "      <th>3</th>\n",
       "      <td>0.174053</td>\n",
       "      <td>0.560949</td>\n",
       "      <td>0.991312</td>\n",
       "      <td>0.168745</td>\n",
       "      <td>0.636815</td>\n",
       "    </tr>\n",
       "    <tr>\n",
       "      <th>2</th>\n",
       "      <td>0.736634</td>\n",
       "      <td>0.984289</td>\n",
       "      <td>0.174398</td>\n",
       "      <td>0.060852</td>\n",
       "      <td>0.385972</td>\n",
       "    </tr>\n",
       "    <tr>\n",
       "      <th>1</th>\n",
       "      <td>0.229311</td>\n",
       "      <td>0.022118</td>\n",
       "      <td>0.025588</td>\n",
       "      <td>0.682839</td>\n",
       "      <td>0.563910</td>\n",
       "    </tr>\n",
       "    <tr>\n",
       "      <th>0</th>\n",
       "      <td>0.516019</td>\n",
       "      <td>0.888242</td>\n",
       "      <td>0.575932</td>\n",
       "      <td>0.273078</td>\n",
       "      <td>0.244062</td>\n",
       "    </tr>\n",
       "  </tbody>\n",
       "</table>\n",
       "</div>"
      ],
      "text/plain": [
       "          A         B         C         D         E\n",
       "7  0.793836  0.255009  0.232284  0.138316  0.398928\n",
       "6  0.837741  0.090177  0.234931  0.419176  0.131346\n",
       "5  0.542139  0.501710  0.740710  0.719700  0.698215\n",
       "4  0.095319  0.118023  0.329139  0.849615  0.733250\n",
       "3  0.174053  0.560949  0.991312  0.168745  0.636815\n",
       "2  0.736634  0.984289  0.174398  0.060852  0.385972\n",
       "1  0.229311  0.022118  0.025588  0.682839  0.563910\n",
       "0  0.516019  0.888242  0.575932  0.273078  0.244062"
      ]
     },
     "execution_count": 16,
     "metadata": {},
     "output_type": "execute_result"
    }
   ],
   "source": [
    "df1.sort_index(ascending=False)"
   ]
  },
  {
   "cell_type": "code",
   "execution_count": 17,
   "metadata": {},
   "outputs": [
    {
     "data": {
      "text/html": [
       "<div>\n",
       "<style>\n",
       "    .dataframe thead tr:only-child th {\n",
       "        text-align: right;\n",
       "    }\n",
       "\n",
       "    .dataframe thead th {\n",
       "        text-align: left;\n",
       "    }\n",
       "\n",
       "    .dataframe tbody tr th {\n",
       "        vertical-align: top;\n",
       "    }\n",
       "</style>\n",
       "<table border=\"1\" class=\"dataframe\">\n",
       "  <thead>\n",
       "    <tr style=\"text-align: right;\">\n",
       "      <th></th>\n",
       "      <th>A</th>\n",
       "      <th>B</th>\n",
       "      <th>C</th>\n",
       "      <th>D</th>\n",
       "      <th>E</th>\n",
       "    </tr>\n",
       "  </thead>\n",
       "  <tbody>\n",
       "    <tr>\n",
       "      <th>0</th>\n",
       "      <td>0.516019</td>\n",
       "      <td>0.888242</td>\n",
       "      <td>0.575932</td>\n",
       "      <td>0.273078</td>\n",
       "      <td>0.244062</td>\n",
       "    </tr>\n",
       "    <tr>\n",
       "      <th>1</th>\n",
       "      <td>0.229311</td>\n",
       "      <td>0.022118</td>\n",
       "      <td>0.025588</td>\n",
       "      <td>0.682839</td>\n",
       "      <td>0.563910</td>\n",
       "    </tr>\n",
       "    <tr>\n",
       "      <th>2</th>\n",
       "      <td>0.736634</td>\n",
       "      <td>0.984289</td>\n",
       "      <td>0.174398</td>\n",
       "      <td>0.060852</td>\n",
       "      <td>0.385972</td>\n",
       "    </tr>\n",
       "    <tr>\n",
       "      <th>3</th>\n",
       "      <td>0.174053</td>\n",
       "      <td>0.560949</td>\n",
       "      <td>0.991312</td>\n",
       "      <td>0.168745</td>\n",
       "      <td>0.636815</td>\n",
       "    </tr>\n",
       "    <tr>\n",
       "      <th>4</th>\n",
       "      <td>0.095319</td>\n",
       "      <td>0.118023</td>\n",
       "      <td>0.329139</td>\n",
       "      <td>0.849615</td>\n",
       "      <td>0.733250</td>\n",
       "    </tr>\n",
       "    <tr>\n",
       "      <th>5</th>\n",
       "      <td>0.542139</td>\n",
       "      <td>0.501710</td>\n",
       "      <td>0.740710</td>\n",
       "      <td>0.719700</td>\n",
       "      <td>0.698215</td>\n",
       "    </tr>\n",
       "    <tr>\n",
       "      <th>6</th>\n",
       "      <td>0.837741</td>\n",
       "      <td>0.090177</td>\n",
       "      <td>0.234931</td>\n",
       "      <td>0.419176</td>\n",
       "      <td>0.131346</td>\n",
       "    </tr>\n",
       "    <tr>\n",
       "      <th>7</th>\n",
       "      <td>0.793836</td>\n",
       "      <td>0.255009</td>\n",
       "      <td>0.232284</td>\n",
       "      <td>0.138316</td>\n",
       "      <td>0.398928</td>\n",
       "    </tr>\n",
       "  </tbody>\n",
       "</table>\n",
       "</div>"
      ],
      "text/plain": [
       "          A         B         C         D         E\n",
       "0  0.516019  0.888242  0.575932  0.273078  0.244062\n",
       "1  0.229311  0.022118  0.025588  0.682839  0.563910\n",
       "2  0.736634  0.984289  0.174398  0.060852  0.385972\n",
       "3  0.174053  0.560949  0.991312  0.168745  0.636815\n",
       "4  0.095319  0.118023  0.329139  0.849615  0.733250\n",
       "5  0.542139  0.501710  0.740710  0.719700  0.698215\n",
       "6  0.837741  0.090177  0.234931  0.419176  0.131346\n",
       "7  0.793836  0.255009  0.232284  0.138316  0.398928"
      ]
     },
     "execution_count": 17,
     "metadata": {},
     "output_type": "execute_result"
    }
   ],
   "source": [
    "df1"
   ]
  },
  {
   "cell_type": "code",
   "execution_count": 18,
   "metadata": {},
   "outputs": [
    {
     "data": {
      "text/html": [
       "<div>\n",
       "<style>\n",
       "    .dataframe thead tr:only-child th {\n",
       "        text-align: right;\n",
       "    }\n",
       "\n",
       "    .dataframe thead th {\n",
       "        text-align: left;\n",
       "    }\n",
       "\n",
       "    .dataframe tbody tr th {\n",
       "        vertical-align: top;\n",
       "    }\n",
       "</style>\n",
       "<table border=\"1\" class=\"dataframe\">\n",
       "  <thead>\n",
       "    <tr style=\"text-align: right;\">\n",
       "      <th></th>\n",
       "      <th>B</th>\n",
       "      <th>C</th>\n",
       "      <th>A</th>\n",
       "      <th>E</th>\n",
       "      <th>D</th>\n",
       "    </tr>\n",
       "  </thead>\n",
       "  <tbody>\n",
       "    <tr>\n",
       "      <th>0</th>\n",
       "      <td>0.888242</td>\n",
       "      <td>0.575932</td>\n",
       "      <td>0.516019</td>\n",
       "      <td>0.244062</td>\n",
       "      <td>0.273078</td>\n",
       "    </tr>\n",
       "    <tr>\n",
       "      <th>1</th>\n",
       "      <td>0.022118</td>\n",
       "      <td>0.025588</td>\n",
       "      <td>0.229311</td>\n",
       "      <td>0.563910</td>\n",
       "      <td>0.682839</td>\n",
       "    </tr>\n",
       "    <tr>\n",
       "      <th>2</th>\n",
       "      <td>0.984289</td>\n",
       "      <td>0.174398</td>\n",
       "      <td>0.736634</td>\n",
       "      <td>0.385972</td>\n",
       "      <td>0.060852</td>\n",
       "    </tr>\n",
       "    <tr>\n",
       "      <th>3</th>\n",
       "      <td>0.560949</td>\n",
       "      <td>0.991312</td>\n",
       "      <td>0.174053</td>\n",
       "      <td>0.636815</td>\n",
       "      <td>0.168745</td>\n",
       "    </tr>\n",
       "    <tr>\n",
       "      <th>4</th>\n",
       "      <td>0.118023</td>\n",
       "      <td>0.329139</td>\n",
       "      <td>0.095319</td>\n",
       "      <td>0.733250</td>\n",
       "      <td>0.849615</td>\n",
       "    </tr>\n",
       "    <tr>\n",
       "      <th>5</th>\n",
       "      <td>0.501710</td>\n",
       "      <td>0.740710</td>\n",
       "      <td>0.542139</td>\n",
       "      <td>0.698215</td>\n",
       "      <td>0.719700</td>\n",
       "    </tr>\n",
       "    <tr>\n",
       "      <th>6</th>\n",
       "      <td>0.090177</td>\n",
       "      <td>0.234931</td>\n",
       "      <td>0.837741</td>\n",
       "      <td>0.131346</td>\n",
       "      <td>0.419176</td>\n",
       "    </tr>\n",
       "    <tr>\n",
       "      <th>7</th>\n",
       "      <td>0.255009</td>\n",
       "      <td>0.232284</td>\n",
       "      <td>0.793836</td>\n",
       "      <td>0.398928</td>\n",
       "      <td>0.138316</td>\n",
       "    </tr>\n",
       "  </tbody>\n",
       "</table>\n",
       "</div>"
      ],
      "text/plain": [
       "          B         C         A         E         D\n",
       "0  0.888242  0.575932  0.516019  0.244062  0.273078\n",
       "1  0.022118  0.025588  0.229311  0.563910  0.682839\n",
       "2  0.984289  0.174398  0.736634  0.385972  0.060852\n",
       "3  0.560949  0.991312  0.174053  0.636815  0.168745\n",
       "4  0.118023  0.329139  0.095319  0.733250  0.849615\n",
       "5  0.501710  0.740710  0.542139  0.698215  0.719700\n",
       "6  0.090177  0.234931  0.837741  0.131346  0.419176\n",
       "7  0.255009  0.232284  0.793836  0.398928  0.138316"
      ]
     },
     "execution_count": 18,
     "metadata": {},
     "output_type": "execute_result"
    }
   ],
   "source": [
    "df1.sort_values(1,axis=1)"
   ]
  },
  {
   "cell_type": "code",
   "execution_count": null,
   "metadata": {
    "collapsed": true
   },
   "outputs": [],
   "source": []
  }
 ],
 "metadata": {
  "kernelspec": {
   "display_name": "Python 3",
   "language": "python",
   "name": "python3"
  },
  "language_info": {
   "codemirror_mode": {
    "name": "ipython",
    "version": 3
   },
   "file_extension": ".py",
   "mimetype": "text/x-python",
   "name": "python",
   "nbconvert_exporter": "python",
   "pygments_lexer": "ipython3",
   "version": "3.6.1"
  }
 },
 "nbformat": 4,
 "nbformat_minor": 2
}
