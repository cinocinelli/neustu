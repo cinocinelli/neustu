{
 "cells": [
  {
   "cell_type": "code",
   "execution_count": 1,
   "metadata": {
    "collapsed": true
   },
   "outputs": [],
   "source": [
    "import pandas as pd\n",
    "import numpy as np\n",
    "from pandas import DataFrame,Series"
   ]
  },
  {
   "cell_type": "code",
   "execution_count": 2,
   "metadata": {
    "collapsed": true
   },
   "outputs": [],
   "source": [
    "df=pd.read_csv('apply_demo.csv')"
   ]
  },
  {
   "cell_type": "code",
   "execution_count": 3,
   "metadata": {},
   "outputs": [
    {
     "data": {
      "text/plain": [
       "'C:\\\\Users\\\\29007\\\\东软python实训'"
      ]
     },
     "execution_count": 3,
     "metadata": {},
     "output_type": "execute_result"
    }
   ],
   "source": [
    "%pwd"
   ]
  },
  {
   "cell_type": "code",
   "execution_count": 4,
   "metadata": {},
   "outputs": [
    {
     "data": {
      "text/html": [
       "<div>\n",
       "<style>\n",
       "    .dataframe thead tr:only-child th {\n",
       "        text-align: right;\n",
       "    }\n",
       "\n",
       "    .dataframe thead th {\n",
       "        text-align: left;\n",
       "    }\n",
       "\n",
       "    .dataframe tbody tr th {\n",
       "        vertical-align: top;\n",
       "    }\n",
       "</style>\n",
       "<table border=\"1\" class=\"dataframe\">\n",
       "  <thead>\n",
       "    <tr style=\"text-align: right;\">\n",
       "      <th></th>\n",
       "      <th>time</th>\n",
       "      <th>data</th>\n",
       "    </tr>\n",
       "  </thead>\n",
       "  <tbody>\n",
       "    <tr>\n",
       "      <th>0</th>\n",
       "      <td>1473411962</td>\n",
       "      <td>Symbol: APPL Seqno: 0.0 Price: 1623.0</td>\n",
       "    </tr>\n",
       "    <tr>\n",
       "      <th>1</th>\n",
       "      <td>1473411962</td>\n",
       "      <td>Symbol: APPL Seqno: 0.0 Price: 1623.0</td>\n",
       "    </tr>\n",
       "    <tr>\n",
       "      <th>2</th>\n",
       "      <td>1473411963</td>\n",
       "      <td>Symbol: APPL Seqno: 0.0 Price: 1623.0</td>\n",
       "    </tr>\n",
       "    <tr>\n",
       "      <th>3</th>\n",
       "      <td>1473411963</td>\n",
       "      <td>Symbol: APPL Seqno: 0.0 Price: 1623.0</td>\n",
       "    </tr>\n",
       "    <tr>\n",
       "      <th>4</th>\n",
       "      <td>1473411963</td>\n",
       "      <td>Symbol: APPL Seqno: 1.0 Price: 1649.0</td>\n",
       "    </tr>\n",
       "  </tbody>\n",
       "</table>\n",
       "</div>"
      ],
      "text/plain": [
       "         time                                    data\n",
       "0  1473411962   Symbol: APPL Seqno: 0.0 Price: 1623.0\n",
       "1  1473411962   Symbol: APPL Seqno: 0.0 Price: 1623.0\n",
       "2  1473411963   Symbol: APPL Seqno: 0.0 Price: 1623.0\n",
       "3  1473411963   Symbol: APPL Seqno: 0.0 Price: 1623.0\n",
       "4  1473411963   Symbol: APPL Seqno: 1.0 Price: 1649.0"
      ]
     },
     "execution_count": 4,
     "metadata": {},
     "output_type": "execute_result"
    }
   ],
   "source": [
    "df.head()"
   ]
  },
  {
   "cell_type": "code",
   "execution_count": 5,
   "metadata": {},
   "outputs": [
    {
     "data": {
      "text/plain": [
       "56"
      ]
     },
     "execution_count": 5,
     "metadata": {},
     "output_type": "execute_result"
    }
   ],
   "source": [
    "df.size"
   ]
  },
  {
   "cell_type": "code",
   "execution_count": 6,
   "metadata": {},
   "outputs": [
    {
     "data": {
      "text/plain": [
       "RangeIndex(start=0, stop=28, step=1)"
      ]
     },
     "execution_count": 6,
     "metadata": {},
     "output_type": "execute_result"
    }
   ],
   "source": [
    "df.index"
   ]
  },
  {
   "cell_type": "code",
   "execution_count": 7,
   "metadata": {
    "collapsed": true
   },
   "outputs": [],
   "source": [
    "s1=Series(['a']*28)"
   ]
  },
  {
   "cell_type": "code",
   "execution_count": 8,
   "metadata": {},
   "outputs": [
    {
     "data": {
      "text/plain": [
       "0     a\n",
       "1     a\n",
       "2     a\n",
       "3     a\n",
       "4     a\n",
       "5     a\n",
       "6     a\n",
       "7     a\n",
       "8     a\n",
       "9     a\n",
       "10    a\n",
       "11    a\n",
       "12    a\n",
       "13    a\n",
       "14    a\n",
       "15    a\n",
       "16    a\n",
       "17    a\n",
       "18    a\n",
       "19    a\n",
       "20    a\n",
       "21    a\n",
       "22    a\n",
       "23    a\n",
       "24    a\n",
       "25    a\n",
       "26    a\n",
       "27    a\n",
       "dtype: object"
      ]
     },
     "execution_count": 8,
     "metadata": {},
     "output_type": "execute_result"
    }
   ],
   "source": [
    "s1"
   ]
  },
  {
   "cell_type": "code",
   "execution_count": 9,
   "metadata": {
    "collapsed": true
   },
   "outputs": [],
   "source": [
    "df['A']=s1"
   ]
  },
  {
   "cell_type": "code",
   "execution_count": 10,
   "metadata": {},
   "outputs": [
    {
     "data": {
      "text/html": [
       "<div>\n",
       "<style>\n",
       "    .dataframe thead tr:only-child th {\n",
       "        text-align: right;\n",
       "    }\n",
       "\n",
       "    .dataframe thead th {\n",
       "        text-align: left;\n",
       "    }\n",
       "\n",
       "    .dataframe tbody tr th {\n",
       "        vertical-align: top;\n",
       "    }\n",
       "</style>\n",
       "<table border=\"1\" class=\"dataframe\">\n",
       "  <thead>\n",
       "    <tr style=\"text-align: right;\">\n",
       "      <th></th>\n",
       "      <th>time</th>\n",
       "      <th>data</th>\n",
       "      <th>A</th>\n",
       "    </tr>\n",
       "  </thead>\n",
       "  <tbody>\n",
       "    <tr>\n",
       "      <th>0</th>\n",
       "      <td>1473411962</td>\n",
       "      <td>Symbol: APPL Seqno: 0.0 Price: 1623.0</td>\n",
       "      <td>a</td>\n",
       "    </tr>\n",
       "    <tr>\n",
       "      <th>1</th>\n",
       "      <td>1473411962</td>\n",
       "      <td>Symbol: APPL Seqno: 0.0 Price: 1623.0</td>\n",
       "      <td>a</td>\n",
       "    </tr>\n",
       "    <tr>\n",
       "      <th>2</th>\n",
       "      <td>1473411963</td>\n",
       "      <td>Symbol: APPL Seqno: 0.0 Price: 1623.0</td>\n",
       "      <td>a</td>\n",
       "    </tr>\n",
       "    <tr>\n",
       "      <th>3</th>\n",
       "      <td>1473411963</td>\n",
       "      <td>Symbol: APPL Seqno: 0.0 Price: 1623.0</td>\n",
       "      <td>a</td>\n",
       "    </tr>\n",
       "    <tr>\n",
       "      <th>4</th>\n",
       "      <td>1473411963</td>\n",
       "      <td>Symbol: APPL Seqno: 1.0 Price: 1649.0</td>\n",
       "      <td>a</td>\n",
       "    </tr>\n",
       "    <tr>\n",
       "      <th>5</th>\n",
       "      <td>1473411963</td>\n",
       "      <td>Symbol: APPL Seqno: 1.0 Price: 1649.0</td>\n",
       "      <td>a</td>\n",
       "    </tr>\n",
       "    <tr>\n",
       "      <th>6</th>\n",
       "      <td>1473411964</td>\n",
       "      <td>Symbol: APPL Seqno: 1.0 Price: 1649.0</td>\n",
       "      <td>a</td>\n",
       "    </tr>\n",
       "    <tr>\n",
       "      <th>7</th>\n",
       "      <td>1473411964</td>\n",
       "      <td>Symbol: APPL Seqno: 1.0 Price: 1649.0</td>\n",
       "      <td>a</td>\n",
       "    </tr>\n",
       "    <tr>\n",
       "      <th>8</th>\n",
       "      <td>1473411964</td>\n",
       "      <td>Symbol: APPL Seqno: 2.0 Price: 1642.0</td>\n",
       "      <td>a</td>\n",
       "    </tr>\n",
       "    <tr>\n",
       "      <th>9</th>\n",
       "      <td>1473411964</td>\n",
       "      <td>Symbol: APPL Seqno: 2.0 Price: 1642.0</td>\n",
       "      <td>a</td>\n",
       "    </tr>\n",
       "    <tr>\n",
       "      <th>10</th>\n",
       "      <td>1473411965</td>\n",
       "      <td>Symbol: APPL Seqno: 2.0 Price: 1642.0</td>\n",
       "      <td>a</td>\n",
       "    </tr>\n",
       "    <tr>\n",
       "      <th>11</th>\n",
       "      <td>1473411965</td>\n",
       "      <td>Symbol: APPL Seqno: 2.0 Price: 1642.0</td>\n",
       "      <td>a</td>\n",
       "    </tr>\n",
       "    <tr>\n",
       "      <th>12</th>\n",
       "      <td>1473411965</td>\n",
       "      <td>Symbol: APPL Seqno: 3.0 Price: 1636.0</td>\n",
       "      <td>a</td>\n",
       "    </tr>\n",
       "    <tr>\n",
       "      <th>13</th>\n",
       "      <td>1473411965</td>\n",
       "      <td>Symbol: APPL Seqno: 3.0 Price: 1636.0</td>\n",
       "      <td>a</td>\n",
       "    </tr>\n",
       "    <tr>\n",
       "      <th>14</th>\n",
       "      <td>1473411966</td>\n",
       "      <td>Symbol: APPL Seqno: 3.0 Price: 1636.0</td>\n",
       "      <td>a</td>\n",
       "    </tr>\n",
       "    <tr>\n",
       "      <th>15</th>\n",
       "      <td>1473411966</td>\n",
       "      <td>Symbol: APPL Seqno: 3.0 Price: 1636.0</td>\n",
       "      <td>a</td>\n",
       "    </tr>\n",
       "    <tr>\n",
       "      <th>16</th>\n",
       "      <td>1473411966</td>\n",
       "      <td>Symbol: APPL Seqno: 4.0 Price: 1669.0</td>\n",
       "      <td>a</td>\n",
       "    </tr>\n",
       "    <tr>\n",
       "      <th>17</th>\n",
       "      <td>1473411966</td>\n",
       "      <td>Symbol: APPL Seqno: 4.0 Price: 1669.0</td>\n",
       "      <td>a</td>\n",
       "    </tr>\n",
       "    <tr>\n",
       "      <th>18</th>\n",
       "      <td>1473411967</td>\n",
       "      <td>Symbol: APPL Seqno: 4.0 Price: 1669.0</td>\n",
       "      <td>a</td>\n",
       "    </tr>\n",
       "    <tr>\n",
       "      <th>19</th>\n",
       "      <td>1473411967</td>\n",
       "      <td>Symbol: APPL Seqno: 4.0 Price: 1669.0</td>\n",
       "      <td>a</td>\n",
       "    </tr>\n",
       "    <tr>\n",
       "      <th>20</th>\n",
       "      <td>1473411967</td>\n",
       "      <td>Symbol: APPL Seqno: 5.0 Price: 1639.0</td>\n",
       "      <td>a</td>\n",
       "    </tr>\n",
       "    <tr>\n",
       "      <th>21</th>\n",
       "      <td>1473411967</td>\n",
       "      <td>Symbol: APPL Seqno: 5.0 Price: 1639.0</td>\n",
       "      <td>a</td>\n",
       "    </tr>\n",
       "    <tr>\n",
       "      <th>22</th>\n",
       "      <td>1473411968</td>\n",
       "      <td>Symbol: APPL Seqno: 5.0 Price: 1639.0</td>\n",
       "      <td>a</td>\n",
       "    </tr>\n",
       "    <tr>\n",
       "      <th>23</th>\n",
       "      <td>1473411968</td>\n",
       "      <td>Symbol: APPL Seqno: 5.0 Price: 1639.0</td>\n",
       "      <td>a</td>\n",
       "    </tr>\n",
       "    <tr>\n",
       "      <th>24</th>\n",
       "      <td>1473411968</td>\n",
       "      <td>Symbol: APPL Seqno: 6.0 Price: 1611.0</td>\n",
       "      <td>a</td>\n",
       "    </tr>\n",
       "    <tr>\n",
       "      <th>25</th>\n",
       "      <td>1473411968</td>\n",
       "      <td>Symbol: APPL Seqno: 6.0 Price: 1611.0</td>\n",
       "      <td>a</td>\n",
       "    </tr>\n",
       "    <tr>\n",
       "      <th>26</th>\n",
       "      <td>1473411969</td>\n",
       "      <td>Symbol: APPL Seqno: 6.0 Price: 1611.0</td>\n",
       "      <td>a</td>\n",
       "    </tr>\n",
       "    <tr>\n",
       "      <th>27</th>\n",
       "      <td>1473411969</td>\n",
       "      <td>Symbol: APPL Seqno: 6.0 Price: 1611.0</td>\n",
       "      <td>a</td>\n",
       "    </tr>\n",
       "  </tbody>\n",
       "</table>\n",
       "</div>"
      ],
      "text/plain": [
       "          time                                    data  A\n",
       "0   1473411962   Symbol: APPL Seqno: 0.0 Price: 1623.0  a\n",
       "1   1473411962   Symbol: APPL Seqno: 0.0 Price: 1623.0  a\n",
       "2   1473411963   Symbol: APPL Seqno: 0.0 Price: 1623.0  a\n",
       "3   1473411963   Symbol: APPL Seqno: 0.0 Price: 1623.0  a\n",
       "4   1473411963   Symbol: APPL Seqno: 1.0 Price: 1649.0  a\n",
       "5   1473411963   Symbol: APPL Seqno: 1.0 Price: 1649.0  a\n",
       "6   1473411964   Symbol: APPL Seqno: 1.0 Price: 1649.0  a\n",
       "7   1473411964   Symbol: APPL Seqno: 1.0 Price: 1649.0  a\n",
       "8   1473411964   Symbol: APPL Seqno: 2.0 Price: 1642.0  a\n",
       "9   1473411964   Symbol: APPL Seqno: 2.0 Price: 1642.0  a\n",
       "10  1473411965   Symbol: APPL Seqno: 2.0 Price: 1642.0  a\n",
       "11  1473411965   Symbol: APPL Seqno: 2.0 Price: 1642.0  a\n",
       "12  1473411965   Symbol: APPL Seqno: 3.0 Price: 1636.0  a\n",
       "13  1473411965   Symbol: APPL Seqno: 3.0 Price: 1636.0  a\n",
       "14  1473411966   Symbol: APPL Seqno: 3.0 Price: 1636.0  a\n",
       "15  1473411966   Symbol: APPL Seqno: 3.0 Price: 1636.0  a\n",
       "16  1473411966   Symbol: APPL Seqno: 4.0 Price: 1669.0  a\n",
       "17  1473411966   Symbol: APPL Seqno: 4.0 Price: 1669.0  a\n",
       "18  1473411967   Symbol: APPL Seqno: 4.0 Price: 1669.0  a\n",
       "19  1473411967   Symbol: APPL Seqno: 4.0 Price: 1669.0  a\n",
       "20  1473411967   Symbol: APPL Seqno: 5.0 Price: 1639.0  a\n",
       "21  1473411967   Symbol: APPL Seqno: 5.0 Price: 1639.0  a\n",
       "22  1473411968   Symbol: APPL Seqno: 5.0 Price: 1639.0  a\n",
       "23  1473411968   Symbol: APPL Seqno: 5.0 Price: 1639.0  a\n",
       "24  1473411968   Symbol: APPL Seqno: 6.0 Price: 1611.0  a\n",
       "25  1473411968   Symbol: APPL Seqno: 6.0 Price: 1611.0  a\n",
       "26  1473411969   Symbol: APPL Seqno: 6.0 Price: 1611.0  a\n",
       "27  1473411969   Symbol: APPL Seqno: 6.0 Price: 1611.0  a"
      ]
     },
     "execution_count": 10,
     "metadata": {},
     "output_type": "execute_result"
    }
   ],
   "source": [
    "df"
   ]
  },
  {
   "cell_type": "code",
   "execution_count": 11,
   "metadata": {
    "collapsed": true
   },
   "outputs": [],
   "source": [
    "df['A']=df['A'].apply(str.upper)"
   ]
  },
  {
   "cell_type": "code",
   "execution_count": 12,
   "metadata": {},
   "outputs": [
    {
     "data": {
      "text/plain": [
       "<bound method NDFrame.head of           time                                    data  A\n",
       "0   1473411962   Symbol: APPL Seqno: 0.0 Price: 1623.0  A\n",
       "1   1473411962   Symbol: APPL Seqno: 0.0 Price: 1623.0  A\n",
       "2   1473411963   Symbol: APPL Seqno: 0.0 Price: 1623.0  A\n",
       "3   1473411963   Symbol: APPL Seqno: 0.0 Price: 1623.0  A\n",
       "4   1473411963   Symbol: APPL Seqno: 1.0 Price: 1649.0  A\n",
       "5   1473411963   Symbol: APPL Seqno: 1.0 Price: 1649.0  A\n",
       "6   1473411964   Symbol: APPL Seqno: 1.0 Price: 1649.0  A\n",
       "7   1473411964   Symbol: APPL Seqno: 1.0 Price: 1649.0  A\n",
       "8   1473411964   Symbol: APPL Seqno: 2.0 Price: 1642.0  A\n",
       "9   1473411964   Symbol: APPL Seqno: 2.0 Price: 1642.0  A\n",
       "10  1473411965   Symbol: APPL Seqno: 2.0 Price: 1642.0  A\n",
       "11  1473411965   Symbol: APPL Seqno: 2.0 Price: 1642.0  A\n",
       "12  1473411965   Symbol: APPL Seqno: 3.0 Price: 1636.0  A\n",
       "13  1473411965   Symbol: APPL Seqno: 3.0 Price: 1636.0  A\n",
       "14  1473411966   Symbol: APPL Seqno: 3.0 Price: 1636.0  A\n",
       "15  1473411966   Symbol: APPL Seqno: 3.0 Price: 1636.0  A\n",
       "16  1473411966   Symbol: APPL Seqno: 4.0 Price: 1669.0  A\n",
       "17  1473411966   Symbol: APPL Seqno: 4.0 Price: 1669.0  A\n",
       "18  1473411967   Symbol: APPL Seqno: 4.0 Price: 1669.0  A\n",
       "19  1473411967   Symbol: APPL Seqno: 4.0 Price: 1669.0  A\n",
       "20  1473411967   Symbol: APPL Seqno: 5.0 Price: 1639.0  A\n",
       "21  1473411967   Symbol: APPL Seqno: 5.0 Price: 1639.0  A\n",
       "22  1473411968   Symbol: APPL Seqno: 5.0 Price: 1639.0  A\n",
       "23  1473411968   Symbol: APPL Seqno: 5.0 Price: 1639.0  A\n",
       "24  1473411968   Symbol: APPL Seqno: 6.0 Price: 1611.0  A\n",
       "25  1473411968   Symbol: APPL Seqno: 6.0 Price: 1611.0  A\n",
       "26  1473411969   Symbol: APPL Seqno: 6.0 Price: 1611.0  A\n",
       "27  1473411969   Symbol: APPL Seqno: 6.0 Price: 1611.0  A>"
      ]
     },
     "execution_count": 12,
     "metadata": {},
     "output_type": "execute_result"
    }
   ],
   "source": [
    "df.head"
   ]
  },
  {
   "cell_type": "code",
   "execution_count": 13,
   "metadata": {},
   "outputs": [
    {
     "data": {
      "text/plain": [
       "0      Symbol: APPL Seqno: 0.0 Price: 1623.0\n",
       "1      Symbol: APPL Seqno: 0.0 Price: 1623.0\n",
       "2      Symbol: APPL Seqno: 0.0 Price: 1623.0\n",
       "3      Symbol: APPL Seqno: 0.0 Price: 1623.0\n",
       "4      Symbol: APPL Seqno: 1.0 Price: 1649.0\n",
       "5      Symbol: APPL Seqno: 1.0 Price: 1649.0\n",
       "6      Symbol: APPL Seqno: 1.0 Price: 1649.0\n",
       "7      Symbol: APPL Seqno: 1.0 Price: 1649.0\n",
       "8      Symbol: APPL Seqno: 2.0 Price: 1642.0\n",
       "9      Symbol: APPL Seqno: 2.0 Price: 1642.0\n",
       "10     Symbol: APPL Seqno: 2.0 Price: 1642.0\n",
       "11     Symbol: APPL Seqno: 2.0 Price: 1642.0\n",
       "12     Symbol: APPL Seqno: 3.0 Price: 1636.0\n",
       "13     Symbol: APPL Seqno: 3.0 Price: 1636.0\n",
       "14     Symbol: APPL Seqno: 3.0 Price: 1636.0\n",
       "15     Symbol: APPL Seqno: 3.0 Price: 1636.0\n",
       "16     Symbol: APPL Seqno: 4.0 Price: 1669.0\n",
       "17     Symbol: APPL Seqno: 4.0 Price: 1669.0\n",
       "18     Symbol: APPL Seqno: 4.0 Price: 1669.0\n",
       "19     Symbol: APPL Seqno: 4.0 Price: 1669.0\n",
       "20     Symbol: APPL Seqno: 5.0 Price: 1639.0\n",
       "21     Symbol: APPL Seqno: 5.0 Price: 1639.0\n",
       "22     Symbol: APPL Seqno: 5.0 Price: 1639.0\n",
       "23     Symbol: APPL Seqno: 5.0 Price: 1639.0\n",
       "24     Symbol: APPL Seqno: 6.0 Price: 1611.0\n",
       "25     Symbol: APPL Seqno: 6.0 Price: 1611.0\n",
       "26     Symbol: APPL Seqno: 6.0 Price: 1611.0\n",
       "27     Symbol: APPL Seqno: 6.0 Price: 1611.0\n",
       "Name: data, dtype: object"
      ]
     },
     "execution_count": 13,
     "metadata": {},
     "output_type": "execute_result"
    }
   ],
   "source": [
    "df['data']"
   ]
  },
  {
   "cell_type": "code",
   "execution_count": 14,
   "metadata": {},
   "outputs": [
    {
     "data": {
      "text/plain": [
       "' Symbol: APPL Seqno: 0.0 Price: 1623.0'"
      ]
     },
     "execution_count": 14,
     "metadata": {},
     "output_type": "execute_result"
    }
   ],
   "source": [
    "df['data'][0]"
   ]
  },
  {
   "cell_type": "code",
   "execution_count": 15,
   "metadata": {
    "collapsed": true
   },
   "outputs": [],
   "source": [
    "l1=df['data'][0].strip().split(' ')"
   ]
  },
  {
   "cell_type": "code",
   "execution_count": 16,
   "metadata": {},
   "outputs": [
    {
     "data": {
      "text/plain": [
       "['Symbol:', 'APPL', 'Seqno:', '0.0', 'Price:', '1623.0']"
      ]
     },
     "execution_count": 16,
     "metadata": {},
     "output_type": "execute_result"
    }
   ],
   "source": [
    "l1"
   ]
  },
  {
   "cell_type": "code",
   "execution_count": 17,
   "metadata": {},
   "outputs": [
    {
     "data": {
      "text/plain": [
       "('APPL', '0.0', '1623.0')"
      ]
     },
     "execution_count": 17,
     "metadata": {},
     "output_type": "execute_result"
    }
   ],
   "source": [
    "l1[1],l1[3],l1[5]"
   ]
  },
  {
   "cell_type": "code",
   "execution_count": 18,
   "metadata": {
    "collapsed": true
   },
   "outputs": [],
   "source": [
    "def foo(line):\n",
    "    items = line.strip().split(' ')\n",
    "    return Series([items[1],items[3],items[5]])"
   ]
  },
  {
   "cell_type": "code",
   "execution_count": 19,
   "metadata": {
    "collapsed": true
   },
   "outputs": [],
   "source": [
    "df_tp=df['data'].apply(foo)"
   ]
  },
  {
   "cell_type": "code",
   "execution_count": 26,
   "metadata": {
    "collapsed": true
   },
   "outputs": [],
   "source": [
    "df_tp=df_tp.rename(columns=Series(['Symbol','Seqno','Price']))"
   ]
  },
  {
   "cell_type": "code",
   "execution_count": 27,
   "metadata": {
    "collapsed": true
   },
   "outputs": [],
   "source": [
    "df_new = df.combine_first(df_tp)"
   ]
  },
  {
   "cell_type": "code",
   "execution_count": 28,
   "metadata": {},
   "outputs": [
    {
     "data": {
      "text/html": [
       "<div>\n",
       "<style>\n",
       "    .dataframe thead tr:only-child th {\n",
       "        text-align: right;\n",
       "    }\n",
       "\n",
       "    .dataframe thead th {\n",
       "        text-align: left;\n",
       "    }\n",
       "\n",
       "    .dataframe tbody tr th {\n",
       "        vertical-align: top;\n",
       "    }\n",
       "</style>\n",
       "<table border=\"1\" class=\"dataframe\">\n",
       "  <thead>\n",
       "    <tr style=\"text-align: right;\">\n",
       "      <th></th>\n",
       "      <th>A</th>\n",
       "      <th>Price</th>\n",
       "      <th>Seqno</th>\n",
       "      <th>Symbol</th>\n",
       "      <th>data</th>\n",
       "      <th>time</th>\n",
       "    </tr>\n",
       "  </thead>\n",
       "  <tbody>\n",
       "    <tr>\n",
       "      <th>0</th>\n",
       "      <td>A</td>\n",
       "      <td>1623.0</td>\n",
       "      <td>0.0</td>\n",
       "      <td>APPL</td>\n",
       "      <td>Symbol: APPL Seqno: 0.0 Price: 1623.0</td>\n",
       "      <td>1473411962</td>\n",
       "    </tr>\n",
       "    <tr>\n",
       "      <th>1</th>\n",
       "      <td>A</td>\n",
       "      <td>1623.0</td>\n",
       "      <td>0.0</td>\n",
       "      <td>APPL</td>\n",
       "      <td>Symbol: APPL Seqno: 0.0 Price: 1623.0</td>\n",
       "      <td>1473411962</td>\n",
       "    </tr>\n",
       "    <tr>\n",
       "      <th>2</th>\n",
       "      <td>A</td>\n",
       "      <td>1623.0</td>\n",
       "      <td>0.0</td>\n",
       "      <td>APPL</td>\n",
       "      <td>Symbol: APPL Seqno: 0.0 Price: 1623.0</td>\n",
       "      <td>1473411963</td>\n",
       "    </tr>\n",
       "    <tr>\n",
       "      <th>3</th>\n",
       "      <td>A</td>\n",
       "      <td>1623.0</td>\n",
       "      <td>0.0</td>\n",
       "      <td>APPL</td>\n",
       "      <td>Symbol: APPL Seqno: 0.0 Price: 1623.0</td>\n",
       "      <td>1473411963</td>\n",
       "    </tr>\n",
       "    <tr>\n",
       "      <th>4</th>\n",
       "      <td>A</td>\n",
       "      <td>1649.0</td>\n",
       "      <td>1.0</td>\n",
       "      <td>APPL</td>\n",
       "      <td>Symbol: APPL Seqno: 1.0 Price: 1649.0</td>\n",
       "      <td>1473411963</td>\n",
       "    </tr>\n",
       "  </tbody>\n",
       "</table>\n",
       "</div>"
      ],
      "text/plain": [
       "   A   Price  Seqno Symbol                                    data        time\n",
       "0  A  1623.0    0.0   APPL   Symbol: APPL Seqno: 0.0 Price: 1623.0  1473411962\n",
       "1  A  1623.0    0.0   APPL   Symbol: APPL Seqno: 0.0 Price: 1623.0  1473411962\n",
       "2  A  1623.0    0.0   APPL   Symbol: APPL Seqno: 0.0 Price: 1623.0  1473411963\n",
       "3  A  1623.0    0.0   APPL   Symbol: APPL Seqno: 0.0 Price: 1623.0  1473411963\n",
       "4  A  1649.0    1.0   APPL   Symbol: APPL Seqno: 1.0 Price: 1649.0  1473411963"
      ]
     },
     "execution_count": 28,
     "metadata": {},
     "output_type": "execute_result"
    }
   ],
   "source": [
    "df_new.head()"
   ]
  },
  {
   "cell_type": "code",
   "execution_count": 30,
   "metadata": {
    "collapsed": true
   },
   "outputs": [],
   "source": [
    "del df_new['data']"
   ]
  },
  {
   "cell_type": "code",
   "execution_count": 31,
   "metadata": {
    "collapsed": true
   },
   "outputs": [],
   "source": [
    "del df_new['A']"
   ]
  },
  {
   "cell_type": "code",
   "execution_count": 32,
   "metadata": {},
   "outputs": [
    {
     "data": {
      "text/html": [
       "<div>\n",
       "<style>\n",
       "    .dataframe thead tr:only-child th {\n",
       "        text-align: right;\n",
       "    }\n",
       "\n",
       "    .dataframe thead th {\n",
       "        text-align: left;\n",
       "    }\n",
       "\n",
       "    .dataframe tbody tr th {\n",
       "        vertical-align: top;\n",
       "    }\n",
       "</style>\n",
       "<table border=\"1\" class=\"dataframe\">\n",
       "  <thead>\n",
       "    <tr style=\"text-align: right;\">\n",
       "      <th></th>\n",
       "      <th>Price</th>\n",
       "      <th>Seqno</th>\n",
       "      <th>Symbol</th>\n",
       "      <th>time</th>\n",
       "    </tr>\n",
       "  </thead>\n",
       "  <tbody>\n",
       "    <tr>\n",
       "      <th>0</th>\n",
       "      <td>1623.0</td>\n",
       "      <td>0.0</td>\n",
       "      <td>APPL</td>\n",
       "      <td>1473411962</td>\n",
       "    </tr>\n",
       "    <tr>\n",
       "      <th>1</th>\n",
       "      <td>1623.0</td>\n",
       "      <td>0.0</td>\n",
       "      <td>APPL</td>\n",
       "      <td>1473411962</td>\n",
       "    </tr>\n",
       "    <tr>\n",
       "      <th>2</th>\n",
       "      <td>1623.0</td>\n",
       "      <td>0.0</td>\n",
       "      <td>APPL</td>\n",
       "      <td>1473411963</td>\n",
       "    </tr>\n",
       "    <tr>\n",
       "      <th>3</th>\n",
       "      <td>1623.0</td>\n",
       "      <td>0.0</td>\n",
       "      <td>APPL</td>\n",
       "      <td>1473411963</td>\n",
       "    </tr>\n",
       "    <tr>\n",
       "      <th>4</th>\n",
       "      <td>1649.0</td>\n",
       "      <td>1.0</td>\n",
       "      <td>APPL</td>\n",
       "      <td>1473411963</td>\n",
       "    </tr>\n",
       "  </tbody>\n",
       "</table>\n",
       "</div>"
      ],
      "text/plain": [
       "    Price  Seqno Symbol        time\n",
       "0  1623.0    0.0   APPL  1473411962\n",
       "1  1623.0    0.0   APPL  1473411962\n",
       "2  1623.0    0.0   APPL  1473411963\n",
       "3  1623.0    0.0   APPL  1473411963\n",
       "4  1649.0    1.0   APPL  1473411963"
      ]
     },
     "execution_count": 32,
     "metadata": {},
     "output_type": "execute_result"
    }
   ],
   "source": [
    "df_new.head()"
   ]
  },
  {
   "cell_type": "code",
   "execution_count": 34,
   "metadata": {
    "collapsed": true
   },
   "outputs": [],
   "source": [
    "df_new.to_csv('demo_duplicate.csv')"
   ]
  },
  {
   "cell_type": "code",
   "execution_count": null,
   "metadata": {
    "collapsed": true
   },
   "outputs": [],
   "source": []
  }
 ],
 "metadata": {
  "kernelspec": {
   "display_name": "Python 3",
   "language": "python",
   "name": "python3"
  },
  "language_info": {
   "codemirror_mode": {
    "name": "ipython",
    "version": 3
   },
   "file_extension": ".py",
   "mimetype": "text/x-python",
   "name": "python",
   "nbconvert_exporter": "python",
   "pygments_lexer": "ipython3",
   "version": "3.6.1"
  }
 },
 "nbformat": 4,
 "nbformat_minor": 2
}
